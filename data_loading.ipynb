{
 "cells": [
  {
   "cell_type": "code",
   "execution_count": 1,
   "id": "808df5d2",
   "metadata": {},
   "outputs": [],
   "source": [
    "import pandas as pd\n",
    "import time\n",
    "import sys\n",
    "import os\n",
    "from sqlalchemy import create_engine\n",
    "from sqlalchemy.orm import declarative_base\n",
    "\n",
    "import logging\n",
    "\n",
    "# Ensure logs directory exists\n",
    "os.makedirs(\"logs\", exist_ok=True)\n",
    "\n",
    "logging.basicConfig(\n",
    "    filename=\"logs/ingestion_db.log\",\n",
    "    level=logging.DEBUG,\n",
    "    format=\"%(asctime)s - %(levelname)s - %(message)s\",\n",
    "    filemode=\"a\"\n",
    ")\n",
    "engine = create_engine(\"sqlite:///Fraud_detection.db\")\n",
    "Base = declarative_base()\n",
    "Base.metadata.create_all(engine)\n",
    "\n",
    "def ingest_db(df, tablename, engine):\n",
    "    df.to_sql(tablename, con=engine, if_exists=\"replace\", index=False)\n",
    "\n",
    "def load_raw_data():\n",
    "    start = time.time()\n",
    "    for file in os.listdir('data'):\n",
    "        if file.endswith(\".csv\"):\n",
    "            try:\n",
    "                df = pd.read_csv(os.path.join(\"data\", file))\n",
    "                logging.info(f\"Ingesting {file} into db\")\n",
    "                tablename = os.path.splitext(file)[0]\n",
    "                ingest_db(df, tablename, engine)\n",
    "            except Exception as e:\n",
    "                logging.error(f\"Failed to ingest {file}: {e}\")\n",
    "    end = time.time()\n",
    "    totaltime = (end - start) / 60\n",
    "    logging.info(\"------------ingestion complete-------------\")\n",
    "    logging.info(f\"Total time taken: {totaltime:.2f} minutes\")\n",
    "\n",
    "if __name__ == \"__main__\":\n",
    "    load_raw_data()\n",
    "    logging.shutdown()  # Ensure all logs are written\n"
   ]
  }
 ],
 "metadata": {
  "kernelspec": {
   "display_name": "Python 3",
   "language": "python",
   "name": "python3"
  },
  "language_info": {
   "codemirror_mode": {
    "name": "ipython",
    "version": 3
   },
   "file_extension": ".py",
   "mimetype": "text/x-python",
   "name": "python",
   "nbconvert_exporter": "python",
   "pygments_lexer": "ipython3",
   "version": "3.12.2"
  }
 },
 "nbformat": 4,
 "nbformat_minor": 5
}
